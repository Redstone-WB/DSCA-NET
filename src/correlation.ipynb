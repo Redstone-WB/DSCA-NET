{
 "cells": [
  {
   "cell_type": "code",
   "execution_count": 1,
   "metadata": {},
   "outputs": [
    {
     "name": "stderr",
     "output_type": "stream",
     "text": [
      "/var/folders/8h/c4nc3b111l56r38yfxstwq740000gq/T/ipykernel_68487/3093510519.py:23: DeprecationWarning: Please use `pearsonr` from the `scipy.stats` namespace, the `scipy.stats.stats` namespace is deprecated.\n",
      "  from scipy.stats.stats import pearsonr\n"
     ]
    }
   ],
   "source": [
    "import os\n",
    "import sys\n",
    "import pickle\n",
    "import random\n",
    "import numpy as np\n",
    "import torch\n",
    "import torch.nn as nn\n",
    "import torch.nn.functional as F\n",
    "\n",
    "from torch.utils.data import DataLoader\n",
    "from torch.utils.data.dataset import random_split\n",
    "\n",
    "\n",
    "# set seed\n",
    "seed = 100\n",
    "random.seed(seed)\n",
    "np.random.seed(seed)\n",
    "torch.manual_seed(seed)\n",
    "os.environ[\"PYTHONHASHSEED\"] = str(seed)\n",
    "\n",
    "# Define data path\n",
    "DATA_PATH = \"./preprocessed/\"\n",
    "from scipy.stats.stats import pearsonr"
   ]
  },
  {
   "cell_type": "code",
   "execution_count": 2,
   "metadata": {},
   "outputs": [],
   "source": [
    "pids = pickle.load(open(os.path.join(DATA_PATH,'pid.pkl'), 'rb'))\n",
    "x_dem = pickle.load(open(os.path.join(DATA_PATH,'x_dem.pkl'), 'rb'))\n",
    "x_per = pickle.load(open(os.path.join(DATA_PATH,'x_per_added.pkl'), 'rb'))\n",
    "x_d = pickle.load(open(os.path.join(DATA_PATH,'x_d_added.pkl'), 'rb'))"
   ]
  },
  {
   "cell_type": "code",
   "execution_count": 3,
   "metadata": {},
   "outputs": [],
   "source": [
    "### Leaving Only patients who have both of examination and prescriptions\n",
    "dem_no_idx = set()\n",
    "per_no_idx = set()\n",
    "d_no_idx = set()\n",
    "\n",
    "for idx in range(len(x_dem)):\n",
    "    \n",
    "    if len(x_dem[idx]) == 0:\n",
    "        dem_no_idx.add(idx)\n",
    "    \n",
    "    if len(x_per[idx]) == 0:\n",
    "        per_no_idx.add(idx)\n",
    "    \n",
    "    if len(x_d[idx]) == 0:\n",
    "        d_no_idx.add(idx)"
   ]
  },
  {
   "cell_type": "code",
   "execution_count": 4,
   "metadata": {},
   "outputs": [],
   "source": [
    "tot_no_idx = per_no_idx | d_no_idx\n",
    "all_idx = set(range(len(x_dem)))\n",
    "alive_idx = all_idx - tot_no_idx\n",
    "\n",
    "alive_idx_list = list(alive_idx)\n",
    "alive_idx_list.sort()\n",
    "\n",
    "\n",
    "x_dem_f = [x_dem[i] for i in alive_idx_list]\n",
    "x_per_f = [x_per[i] for i in alive_idx_list]\n",
    "x_d_f = [x_d[i] for i in alive_idx_list]\n"
   ]
  },
  {
   "cell_type": "code",
   "execution_count": 5,
   "metadata": {},
   "outputs": [
    {
     "name": "stdout",
     "output_type": "stream",
     "text": [
      "19432\n",
      "19432\n",
      "19432\n"
     ]
    }
   ],
   "source": [
    "print(len(x_dem_f))\n",
    "print(len(x_per_f))\n",
    "print(len(x_d_f))\n"
   ]
  },
  {
   "cell_type": "code",
   "execution_count": 28,
   "metadata": {},
   "outputs": [],
   "source": [
    "## Correlation between examination values and number of diagnosis \n",
    "## 4/19 examination metrics\n",
    "signal_0 = []\n",
    "signal_1 = []\n",
    "signal_2 = []\n",
    "signal_3 = []\n",
    "signal_4 = []\n",
    "signal_5 = []\n",
    "signal_6 = []\n",
    "signal_7 = []\n",
    "signal_8 = []\n",
    "signal_9 = []\n",
    "\n",
    "\n",
    "sum_prescription = []\n",
    "\n",
    "for p_idx, patient in enumerate(range(len(x_per_f))):\n",
    "    for v_idx, visit in enumerate(range(len(x_per_f[p_idx]))):\n",
    "        signal_0.append(x_per_f[p_idx][v_idx][0])\n",
    "        signal_1.append(x_per_f[p_idx][v_idx][1])\n",
    "        signal_2.append(x_per_f[p_idx][v_idx][2])\n",
    "        signal_3.append(x_per_f[p_idx][v_idx][3])\n",
    "        signal_4.append(x_per_f[p_idx][v_idx][4])\n",
    "        signal_5.append(x_per_f[p_idx][v_idx][5])\n",
    "        signal_6.append(x_per_f[p_idx][v_idx][6])\n",
    "        signal_7.append(x_per_f[p_idx][v_idx][7])\n",
    "        signal_8.append(x_per_f[p_idx][v_idx][8])\n",
    "        signal_9.append(x_per_f[p_idx][v_idx][9])\n",
    "\n",
    "\n",
    "        sum_prescription.append(sum(x_d_f[p_idx][v_idx]))\n"
   ]
  },
  {
   "cell_type": "code",
   "execution_count": 23,
   "metadata": {},
   "outputs": [
    {
     "name": "stdout",
     "output_type": "stream",
     "text": [
      "105101\n",
      "105101\n",
      "105101\n"
     ]
    }
   ],
   "source": [
    "print(len(signal_0))\n",
    "print(len(signal_1))\n",
    "print(len(sum_prescription))"
   ]
  },
  {
   "cell_type": "code",
   "execution_count": 7,
   "metadata": {},
   "outputs": [],
   "source": [
    "from scipy import stats"
   ]
  },
  {
   "cell_type": "code",
   "execution_count": 29,
   "metadata": {},
   "outputs": [
    {
     "name": "stdout",
     "output_type": "stream",
     "text": [
      "(0.0005614566878054583, 0.8555685292643915)\n",
      "(0.2571851660934447, 0.0)\n",
      "(0.39731365175755795, 0.0)\n",
      "(0.22764478054341095, 0.0)\n",
      "(0.24459958746913443, 0.0)\n",
      "(0.09014999436986289, 1.59713967319103e-188)\n",
      "(0.05174021166753502, 3.1502892271935005e-63)\n",
      "(0.041472581000349396, 3.048036413527396e-41)\n",
      "(-0.006905286810450665, 0.02517904786970362)\n",
      "(-0.009515598685796255, 0.0020360544355439093)\n"
     ]
    }
   ],
   "source": [
    "print(stats.pearsonr(signal_0, sum_prescription))\n",
    "print(stats.pearsonr(signal_1, sum_prescription))\n",
    "print(stats.pearsonr(signal_2, sum_prescription))\n",
    "print(stats.pearsonr(signal_3, sum_prescription))\n",
    "print(stats.pearsonr(signal_4, sum_prescription))\n",
    "print(stats.pearsonr(signal_5, sum_prescription))\n",
    "print(stats.pearsonr(signal_6, sum_prescription))\n",
    "print(stats.pearsonr(signal_7, sum_prescription))\n",
    "print(stats.pearsonr(signal_8, sum_prescription))\n",
    "print(stats.pearsonr(signal_9, sum_prescription))"
   ]
  },
  {
   "cell_type": "code",
   "execution_count": 26,
   "metadata": {},
   "outputs": [
    {
     "name": "stdout",
     "output_type": "stream",
     "text": [
      "PointbiserialrResult(correlation=0.0005614566878054583, pvalue=0.8555685292643915)\n",
      "PointbiserialrResult(correlation=0.2571851660934447, pvalue=0.0)\n",
      "PointbiserialrResult(correlation=0.39731365175755795, pvalue=0.0)\n",
      "PointbiserialrResult(correlation=0.22764478054341095, pvalue=0.0)\n"
     ]
    }
   ],
   "source": [
    "print(stats.pointbiserialr(signal_0, sum_prescription))\n",
    "print(stats.pointbiserialr(signal_1, sum_prescription))\n",
    "print(stats.pointbiserialr(signal_2, sum_prescription))\n",
    "print(stats.pointbiserialr(signal_3, sum_prescription))\n"
   ]
  },
  {
   "cell_type": "code",
   "execution_count": 30,
   "metadata": {},
   "outputs": [],
   "source": [
    "prescription_1 = []\n",
    "prescription_2 = []\n",
    "prescription_3 = []\n",
    "\n",
    "\n",
    "for p_idx, patient in enumerate(range(len(x_per_f))):\n",
    "    for v_idx, visit in enumerate(range(len(x_per_f[p_idx]))):\n",
    "        prescription_1.append(x_d_f[p_idx][v_idx][0])\n",
    "        prescription_2.append(x_d_f[p_idx][v_idx][1])\n",
    "        prescription_3.append(x_d_f[p_idx][v_idx][2])"
   ]
  },
  {
   "cell_type": "code",
   "execution_count": 41,
   "metadata": {},
   "outputs": [
    {
     "name": "stdout",
     "output_type": "stream",
     "text": [
      "PointbiserialrResult(correlation=-0.001484819185381471, pvalue=0.630259029821445)\n",
      "PointbiserialrResult(correlation=-0.0020092603779998915, pvalue=0.5148007361976643)\n",
      "PointbiserialrResult(correlation=-0.0015774108329600414, pvalue=0.6090853186923579)\n",
      "####\n",
      "PointbiserialrResult(correlation=0.0888419060495691, pvalue=3.947225610981999e-183)\n",
      "PointbiserialrResult(correlation=-0.07633525716313086, pvalue=1.3600771856671149e-135)\n",
      "PointbiserialrResult(correlation=0.015506046817262914, pvalue=4.977144126960538e-07)\n",
      "2\n",
      "PointbiserialrResult(correlation=-0.0018792043045574814, pvalue=0.5423800304285233)\n",
      "PointbiserialrResult(correlation=0.04697210730782794, pvalue=2.032045605289511e-52)\n",
      "PointbiserialrResult(correlation=0.020081780019347795, pvalue=7.467776994708218e-11)\n",
      "PointbiserialrResult(correlation=0.073917750693716, pvalue=3.0503684347772116e-127)\n",
      "PointbiserialrResult(correlation=-0.07843558638292139, pvalue=4.55388550783013e-143)\n",
      "PointbiserialrResult(correlation=0.0010743020260381563, pvalue=0.7276321746850606)\n",
      "PointbiserialrResult(correlation=0.0793595468803109, pvalue=2.018867932108204e-146)\n",
      "PointbiserialrResult(correlation=-0.00457192172905762, pvalue=0.13829388988808866)\n",
      "PointbiserialrResult(correlation=-0.02880869043805289, pvalue=9.506963042101117e-21)\n",
      "5\n",
      "PointbiserialrResult(correlation=-0.008916492348397665, pvalue=0.003844018751069028)\n",
      "PointbiserialrResult(correlation=0.004668684573115805, pvalue=0.13014143825319832)\n",
      "PointbiserialrResult(correlation=0.0415527557655743, pvalue=2.1429544904908103e-41)\n",
      "PointbiserialrResult(correlation=-0.012635725320667177, pvalue=4.193954483984991e-05)\n",
      "PointbiserialrResult(correlation=0.007077795384369151, pvalue=0.02175766095387164)\n",
      "PointbiserialrResult(correlation=0.009565197407328679, pvalue=0.0019286659686280152)\n"
     ]
    }
   ],
   "source": [
    "print(stats.pointbiserialr(signal_0, prescription_1))\n",
    "print(stats.pointbiserialr(signal_0, prescription_2))\n",
    "print(stats.pointbiserialr(signal_0, prescription_3))\n",
    "\n",
    "print(\"####\")\n",
    "\n",
    "print(stats.pointbiserialr(signal_1, prescription_1))\n",
    "print(stats.pointbiserialr(signal_1, prescription_2))\n",
    "print(stats.pointbiserialr(signal_1, prescription_3))\n",
    "\n",
    "print(\"2\")\n",
    "\n",
    "print(stats.pointbiserialr(signal_2, prescription_1))\n",
    "print(stats.pointbiserialr(signal_2, prescription_2))\n",
    "print(stats.pointbiserialr(signal_2, prescription_3))\n",
    "\n",
    "\n",
    "print(stats.pointbiserialr(signal_3, prescription_1))\n",
    "print(stats.pointbiserialr(signal_3, prescription_2))\n",
    "print(stats.pointbiserialr(signal_3, prescription_3))\n",
    "\n",
    "print(stats.pointbiserialr(signal_4, prescription_1))\n",
    "print(stats.pointbiserialr(signal_4, prescription_2))\n",
    "print(stats.pointbiserialr(signal_4, prescription_3))\n",
    "\n",
    "print(\"5\")\n",
    "\n",
    "print(stats.pointbiserialr(signal_5, prescription_1))\n",
    "print(stats.pointbiserialr(signal_5, prescription_2))\n",
    "print(stats.pointbiserialr(signal_5, prescription_3))\n",
    "\n",
    "print(stats.pointbiserialr(signal_6, prescription_1))\n",
    "print(stats.pointbiserialr(signal_6, prescription_2))\n",
    "print(stats.pointbiserialr(signal_6, prescription_3))"
   ]
  }
 ],
 "metadata": {
  "interpreter": {
   "hash": "aee8b7b246df8f9039afb4144a1f6fd8d2ca17a180786b69acc140d282b71a49"
  },
  "kernelspec": {
   "display_name": "Python 3.9.7 64-bit",
   "language": "python",
   "name": "python3"
  },
  "language_info": {
   "codemirror_mode": {
    "name": "ipython",
    "version": 3
   },
   "file_extension": ".py",
   "mimetype": "text/x-python",
   "name": "python",
   "nbconvert_exporter": "python",
   "pygments_lexer": "ipython3",
   "version": "3.9.7"
  },
  "orig_nbformat": 4
 },
 "nbformat": 4,
 "nbformat_minor": 2
}
